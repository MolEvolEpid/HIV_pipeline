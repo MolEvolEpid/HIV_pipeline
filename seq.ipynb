{
 "cells": [
  {
   "cell_type": "code",
   "execution_count": null,
   "metadata": {},
   "outputs": [],
   "source": [
    "import os\n",
    "current_dir = os.getcwd()\n",
    "\n",
    "config_database_dir = os.path.join(current_dir[:current_dir.rfind('HIV_pipeline_main')], 'HIV_pipeline_main/config/general')\n",
    "os.chdir(config_database_dir)\n",
    "from db_operations import db_wrapper, extract_table\n",
    "from data_uploader import upload_df_to_table\n",
    "from user_prompter import data_upload_and_header_matching\n",
    "from stats_plotter import plot_distribution, calculate_stats\n",
    "\n",
    "config_seq_dir = os.path.join(current_dir[:current_dir.rfind('HIV_pipeline_main')], 'HIV_pipeline_main/config/seq')\n",
    "os.chdir(config_seq_dir)\n",
    "from mafft_mac_installer import install_and_activate_mafft\n",
    "from qc import process_sequences, categorize_hiv_typing, categorize_hiv1_subtyping\n",
    "from hiv_typing_alignment_worker import perform_hiv_typing\n",
    "from hiv_subtyping_alignment_worker import perform_hiv_subtyping\n",
    "from parallel_alignment_processor import process_sequence_alignment_parallel"
   ]
  },
  {
   "cell_type": "code",
   "execution_count": null,
   "metadata": {},
   "outputs": [],
   "source": [
    "database = \"swe_db\"\n",
    "user = \"raeuf\"\n",
    "password = \"SWE_db_raeuf_pw\"\n",
    "host = \"localhost\" \n",
    "port = \"5432\""
   ]
  },
  {
   "cell_type": "code",
   "execution_count": null,
   "metadata": {},
   "outputs": [],
   "source": [
    "def process_sequence_data(database, user, password, host, port):\n",
    "    \"\"\"\n",
    "    Process sequence data including uploading, processing, typing, and subtyping.\n",
    "\n",
    "    Args:\n",
    "        database (str): The name of the database.\n",
    "        user (str): The username for database access.\n",
    "        password (str): The password for database access.\n",
    "        host (str): The host address of the database.\n",
    "        port (int): The port number of the database.\n",
    "\n",
    "    Returns:\n",
    "        tuple: A tuple containing various processed data and results, including:\n",
    "            - uploaded_sequences_df (DataFrame): DataFrame containing uploaded sequence data.\n",
    "            - filtered_rows (DataFrame): DataFrame containing filtered rows from data upload and header matching.\n",
    "            - sequence_processing_result (str): Result of sequence processing.\n",
    "            - post_qc_sequences_df (DataFrame): DataFrame containing sequences after quality control.\n",
    "            - typed_hiv_sequences_df (DataFrame): DataFrame containing typed HIV sequences.\n",
    "            - categorized_hiv_typing_results (dict): Dictionary containing categorized HIV typing results.\n",
    "            - hiv1_subtyped_sequences_df (DataFrame): DataFrame containing HIV-1 subtyped sequences.\n",
    "            - categorized_hiv1_subtyping_results (dict): Dictionary containing categorized HIV-1 subtyping results.\n",
    "            - known_hiv1_subtypes (DataFrame): DataFrame containing known HIV-1 subtypes.\n",
    "            - upload_results (tuple): A tuple containing results of sequence data upload.\n",
    "            - uploaded_sequences (DataFrame): DataFrame containing uploaded sequences.\n",
    "            - not_uploaded_sequences (DataFrame): DataFrame containing sequences that were not uploaded.\n",
    "    \"\"\"\n",
    "    # Assign default values to variables\n",
    "    processed_rows = None\n",
    "    filtered_rows = None\n",
    "    sequence_processing_result = None\n",
    "    post_qc_sequences_df = None\n",
    "    typed_hiv_sequences_df = None\n",
    "    categorized_hiv_typing_results = None\n",
    "    hiv1_subtyped_sequences_df = None\n",
    "    categorized_hiv1_subtyping_results = None\n",
    "    known_hiv1_subtypes = None\n",
    "    uploaded_sequences = None\n",
    "    not_uploaded_sequences = None\n",
    "\n",
    "    try:\n",
    "        # Call functions to process sequence data\n",
    "        db_wrapper(database, user, password, host, port)\n",
    "        processed_rows, filtered_rows = data_upload_and_header_matching()\n",
    "        \n",
    "        # Check if data is available and not empty\n",
    "        if processed_rows is not None and not processed_rows.empty:\n",
    "            sequence_processing_result, post_qc_sequences_df = process_sequences(processed_rows)\n",
    "            hiv_type_ref_seq_table = extract_table(database, user, password, host, port, 'hiv_type_ref_seq')\n",
    "            mafft_executable = install_and_activate_mafft()  # Install and activate MAFFT\n",
    "            typed_hiv_sequences_df = process_sequence_alignment_parallel(post_qc_sequences_df, \n",
    "                                                                            hiv_type_ref_seq_table, \n",
    "                                                                            'seq_cleaned', \n",
    "                                                                            perform_hiv_typing, \n",
    "                                                                            mafft_executable)\n",
    "            # Check if typing result is a string (indicating error)\n",
    "            if isinstance(typed_hiv_sequences_df, str):\n",
    "                raise ValueError(f\"Error: {typed_hiv_sequences_df}\")\n",
    "            else:\n",
    "                categorized_hiv_typing_results = categorize_hiv_typing(typed_hiv_sequences_df)\n",
    "                hiv_subtype_con_ref_seq_table = extract_table(database, user, password, host, port, table_name='hiv_subtype_con_ref_seq')\n",
    "                hiv1_subtyped_sequences_df = process_sequence_alignment_parallel(categorized_hiv_typing_results['hiv1_df'], \n",
    "                                                                                   hiv_subtype_con_ref_seq_table, \n",
    "                                                                                   'extracted_pol_query_seq_cleaned', \n",
    "                                                                                   perform_hiv_subtyping, \n",
    "                                                                                   mafft_executable)\n",
    "                # Check if subtyping result is a string (indicating error)\n",
    "                if isinstance(hiv1_subtyped_sequences_df, str):\n",
    "                    raise ValueError(f\"Error: {hiv1_subtyped_sequences_df}\")\n",
    "                else:\n",
    "                    categorized_hiv1_subtyping_results, known_hiv1_subtypes = categorize_hiv1_subtyping(hiv1_subtyped_sequences_df)\n",
    "                    upload_results = upload_df_to_table(database, user, password, host, port,\n",
    "                                                        table_name='seq', df=known_hiv1_subtypes)\n",
    "                    # Check if upload result is a string (indicating error)\n",
    "                    if isinstance(upload_results, str):\n",
    "                        raise ValueError(upload_results)\n",
    "                    else:\n",
    "                        uploaded_sequences, not_uploaded_sequences = upload_results\n",
    "    except Exception as e:\n",
    "        print(f\"Error occurred: {str(e)}\")\n",
    "        # Handle the error, log it, or perform any other necessary actions\n",
    "    \n",
    "    # Return processed data and results\n",
    "    return (processed_rows, filtered_rows, sequence_processing_result, post_qc_sequences_df, \n",
    "            typed_hiv_sequences_df, categorized_hiv_typing_results, hiv1_subtyped_sequences_df, \n",
    "            categorized_hiv1_subtyping_results, known_hiv1_subtypes,\n",
    "            uploaded_sequences, not_uploaded_sequences)\n"
   ]
  },
  {
   "cell_type": "code",
   "execution_count": null,
   "metadata": {},
   "outputs": [],
   "source": [
    "# Call the function\n",
    "(processed_rows, filtered_rows, sequence_processing_result, post_qc_sequences_df, \n",
    " typed_hiv_sequences_df, categorized_hiv_typing_results, hiv1_subtyped_sequences_df, \n",
    " categorized_hiv1_subtyping_results, known_hiv1_subtypes, uploaded_sequences, \n",
    " not_uploaded_sequences) = process_sequence_data(database, user, password, host, port)"
   ]
  },
  {
   "cell_type": "code",
   "execution_count": null,
   "metadata": {},
   "outputs": [],
   "source": [
    "# Print descriptive strings and variables for each set\n",
    "print(\"Processed Sequences DataFrame:\\n\")\n",
    "print(\"Contains the DataFrame with processed sequences.\")\n",
    "processed_rows"
   ]
  },
  {
   "cell_type": "code",
   "execution_count": null,
   "metadata": {},
   "outputs": [],
   "source": [
    "print(\"Filtered Rows DataFrame:\\n\")\n",
    "print(\"Contains rows been filtered because of invalid datatype.\")\n",
    "filtered_rows"
   ]
  },
  {
   "cell_type": "markdown",
   "metadata": {},
   "source": [
    "----"
   ]
  },
  {
   "cell_type": "code",
   "execution_count": null,
   "metadata": {},
   "outputs": [],
   "source": [
    "print(\"Sequence Processing Result:\\n\")\n",
    "print(\"Contains the result of sequence processing.\")\n",
    "print(sequence_processing_result[\"summary\"])"
   ]
  },
  {
   "cell_type": "code",
   "execution_count": null,
   "metadata": {},
   "outputs": [],
   "source": [
    "print(sequence_processing_result[\"empty_statement\"])\n",
    "sequence_processing_result['empty_df']"
   ]
  },
  {
   "cell_type": "code",
   "execution_count": null,
   "metadata": {},
   "outputs": [],
   "source": [
    "print(sequence_processing_result[\"duplicate_statement\"])\n",
    "sequence_processing_result[\"duplicate_df\"]"
   ]
  },
  {
   "cell_type": "code",
   "execution_count": null,
   "metadata": {},
   "outputs": [],
   "source": [
    "print(sequence_processing_result[\"n_only_statement\"])\n",
    "sequence_processing_result[\"n_only_df\"]"
   ]
  },
  {
   "cell_type": "code",
   "execution_count": null,
   "metadata": {},
   "outputs": [],
   "source": [
    "print(sequence_processing_result[\"low_acgt_ratio_statement\"])\n",
    "sequence_processing_result[\"low_acgt_ratio_df\"]"
   ]
  },
  {
   "cell_type": "code",
   "execution_count": null,
   "metadata": {},
   "outputs": [],
   "source": [
    "print(sequence_processing_result[\"short_statement\"])\n",
    "sequence_processing_result[\"short_df\"]"
   ]
  },
  {
   "cell_type": "markdown",
   "metadata": {},
   "source": [
    "-----"
   ]
  },
  {
   "cell_type": "code",
   "execution_count": null,
   "metadata": {},
   "outputs": [],
   "source": [
    "print(\"Post-QC Sequences DataFrame:\\n\")\n",
    "print(\"Contains the DataFrame with sequences after quality control.\")\n",
    "post_qc_sequences_df\n"
   ]
  },
  {
   "cell_type": "code",
   "execution_count": null,
   "metadata": {},
   "outputs": [],
   "source": [
    "plot_distribution(post_qc_sequences_df, 'seq_cleaned_len', 'lightblue', tick_interval=50,\n",
    "                  switch='no', title='Distribution of Sequence Lengths', xlabel='Sequence Length', \n",
    "                  ylabel='Frequency')"
   ]
  },
  {
   "cell_type": "code",
   "execution_count": null,
   "metadata": {},
   "outputs": [],
   "source": [
    "calculate_stats(post_qc_sequences_df, 'seq_cleaned_len')"
   ]
  },
  {
   "cell_type": "code",
   "execution_count": null,
   "metadata": {},
   "outputs": [],
   "source": [
    "print(\"Typed HIV Sequences DataFrame:\\n\")\n",
    "print(\"Contains the DataFrame with typed HIV sequences.\")\n",
    "typed_hiv_sequences_df"
   ]
  },
  {
   "cell_type": "markdown",
   "metadata": {},
   "source": [
    "---"
   ]
  },
  {
   "cell_type": "code",
   "execution_count": null,
   "metadata": {},
   "outputs": [],
   "source": [
    "print(\"Categorized HIV Typing Results:\\n\")\n",
    "print(\"Contains the categorized results of HIV typing.\")\n",
    "print(categorized_hiv_typing_results[\"summary\"])"
   ]
  },
  {
   "cell_type": "code",
   "execution_count": null,
   "metadata": {},
   "outputs": [],
   "source": [
    "print(categorized_hiv_typing_results[\"short_statement\"])\n",
    "categorized_hiv_typing_results['short_df']"
   ]
  },
  {
   "cell_type": "code",
   "execution_count": null,
   "metadata": {},
   "outputs": [],
   "source": [
    "print(categorized_hiv_typing_results[\"hiv2_statement\"])\n",
    "categorized_hiv_typing_results['hiv2_df']"
   ]
  },
  {
   "cell_type": "code",
   "execution_count": null,
   "metadata": {},
   "outputs": [],
   "source": [
    "print(categorized_hiv_typing_results[\"not_hiv_statement\"])\n",
    "categorized_hiv_typing_results['not_hiv_df']"
   ]
  },
  {
   "cell_type": "code",
   "execution_count": null,
   "metadata": {},
   "outputs": [],
   "source": [
    "categorized_hiv_typing_results['hiv1_df']"
   ]
  },
  {
   "cell_type": "markdown",
   "metadata": {},
   "source": [
    "---"
   ]
  },
  {
   "cell_type": "code",
   "execution_count": null,
   "metadata": {},
   "outputs": [],
   "source": [
    "print(\"HIV-1 Subtyped Sequences DataFrame:\\n\")\n",
    "print(\"Contains the DataFrame with HIV-1 subtyped sequences.\")\n",
    "hiv1_subtyped_sequences_df"
   ]
  },
  {
   "cell_type": "code",
   "execution_count": null,
   "metadata": {},
   "outputs": [],
   "source": [
    "print(categorized_hiv1_subtyping_results[\"subtype_UN_statement\"])\n",
    "categorized_hiv1_subtyping_results['subtype_UN']"
   ]
  },
  {
   "cell_type": "code",
   "execution_count": null,
   "metadata": {},
   "outputs": [],
   "source": [
    "print(categorized_hiv1_subtyping_results[\"subtype_UI_statement\"])\n",
    "categorized_hiv1_subtyping_results['subtype_UI']"
   ]
  },
  {
   "cell_type": "code",
   "execution_count": null,
   "metadata": {},
   "outputs": [],
   "source": [
    "print(categorized_hiv1_subtyping_results[\"subtype_A1_statement\"])\n",
    "categorized_hiv1_subtyping_results['subtype_A1']"
   ]
  },
  {
   "cell_type": "code",
   "execution_count": null,
   "metadata": {},
   "outputs": [],
   "source": [
    "print(categorized_hiv1_subtyping_results[\"subtype_A2_statement\"])\n",
    "categorized_hiv1_subtyping_results['subtype_A2']"
   ]
  },
  {
   "cell_type": "code",
   "execution_count": null,
   "metadata": {},
   "outputs": [],
   "source": [
    "print(categorized_hiv1_subtyping_results[\"subtype_A3_statement\"])\n",
    "categorized_hiv1_subtyping_results['subtype_A3']"
   ]
  },
  {
   "cell_type": "code",
   "execution_count": null,
   "metadata": {},
   "outputs": [],
   "source": [
    "print(categorized_hiv1_subtyping_results[\"subtype_A6_statement\"])\n",
    "categorized_hiv1_subtyping_results['subtype_A6']"
   ]
  },
  {
   "cell_type": "code",
   "execution_count": null,
   "metadata": {},
   "outputs": [],
   "source": [
    "print(categorized_hiv1_subtyping_results[\"subtype_B_statement\"])\n",
    "categorized_hiv1_subtyping_results['subtype_B']"
   ]
  },
  {
   "cell_type": "code",
   "execution_count": null,
   "metadata": {},
   "outputs": [],
   "source": [
    "print(categorized_hiv1_subtyping_results[\"subtype_C_statement\"])\n",
    "categorized_hiv1_subtyping_results['subtype_C']"
   ]
  },
  {
   "cell_type": "code",
   "execution_count": null,
   "metadata": {},
   "outputs": [],
   "source": [
    "print(categorized_hiv1_subtyping_results[\"subtype_D_statement\"])\n",
    "categorized_hiv1_subtyping_results['subtype_D']"
   ]
  },
  {
   "cell_type": "code",
   "execution_count": null,
   "metadata": {},
   "outputs": [],
   "source": [
    "print(categorized_hiv1_subtyping_results[\"subtype_F1_statement\"])\n",
    "categorized_hiv1_subtyping_results['subtype_F1']"
   ]
  },
  {
   "cell_type": "code",
   "execution_count": null,
   "metadata": {},
   "outputs": [],
   "source": [
    "print(categorized_hiv1_subtyping_results[\"subtype_F2_statement\"])\n",
    "categorized_hiv1_subtyping_results['subtype_F2']"
   ]
  },
  {
   "cell_type": "code",
   "execution_count": null,
   "metadata": {},
   "outputs": [],
   "source": [
    "print(categorized_hiv1_subtyping_results[\"subtype_G_statement\"])\n",
    "categorized_hiv1_subtyping_results['subtype_G']"
   ]
  },
  {
   "cell_type": "code",
   "execution_count": null,
   "metadata": {},
   "outputs": [],
   "source": [
    "print(categorized_hiv1_subtyping_results[\"subtype_H_statement\"])\n",
    "categorized_hiv1_subtyping_results['subtype_H']"
   ]
  },
  {
   "cell_type": "code",
   "execution_count": null,
   "metadata": {},
   "outputs": [],
   "source": [
    "print(categorized_hiv1_subtyping_results[\"subtype_J_statement\"])\n",
    "categorized_hiv1_subtyping_results['subtype_J']"
   ]
  },
  {
   "cell_type": "code",
   "execution_count": null,
   "metadata": {},
   "outputs": [],
   "source": [
    "print(categorized_hiv1_subtyping_results[\"subtype_K_statement\"])\n",
    "categorized_hiv1_subtyping_results['subtype_K']"
   ]
  },
  {
   "cell_type": "code",
   "execution_count": null,
   "metadata": {},
   "outputs": [],
   "source": [
    "print(categorized_hiv1_subtyping_results[\"subtype_L_statement\"])\n",
    "categorized_hiv1_subtyping_results['subtype_L']"
   ]
  },
  {
   "cell_type": "code",
   "execution_count": null,
   "metadata": {},
   "outputs": [],
   "source": [
    "print(categorized_hiv1_subtyping_results[\"subtype_01_AE_statement\"])\n",
    "categorized_hiv1_subtyping_results['subtype_01_AE']"
   ]
  },
  {
   "cell_type": "code",
   "execution_count": null,
   "metadata": {},
   "outputs": [],
   "source": [
    "print(categorized_hiv1_subtyping_results[\"subtype_02_AG_statement\"])\n",
    "categorized_hiv1_subtyping_results['subtype_02_AG']"
   ]
  },
  {
   "cell_type": "code",
   "execution_count": null,
   "metadata": {},
   "outputs": [],
   "source": [
    "print(categorized_hiv1_subtyping_results[\"subtype_A4_statement\"])\n",
    "categorized_hiv1_subtyping_results['subtype_A4']"
   ]
  },
  {
   "cell_type": "code",
   "execution_count": null,
   "metadata": {},
   "outputs": [],
   "source": [
    "print(categorized_hiv1_subtyping_results[\"subtype_03_A6B_statement\"])\n",
    "categorized_hiv1_subtyping_results['subtype_03_A6B']"
   ]
  },
  {
   "cell_type": "code",
   "execution_count": null,
   "metadata": {},
   "outputs": [],
   "source": [
    "print(categorized_hiv1_subtyping_results[\"subtype_A7_statement\"])\n",
    "categorized_hiv1_subtyping_results['subtype_A7']"
   ]
  },
  {
   "cell_type": "code",
   "execution_count": null,
   "metadata": {},
   "outputs": [],
   "source": [
    "print(categorized_hiv1_subtyping_results[\"subtype_A8_statement\"])\n",
    "categorized_hiv1_subtyping_results['subtype_A8']"
   ]
  },
  {
   "cell_type": "code",
   "execution_count": null,
   "metadata": {},
   "outputs": [],
   "source": [
    "print(\"Known HIV-1 Subtypes DataFrame:\\n\")\n",
    "print(\"Contains the DataFrame with known HIV-1 subtypes.\")\n",
    "known_hiv1_subtypes"
   ]
  },
  {
   "cell_type": "markdown",
   "metadata": {},
   "source": [
    "---"
   ]
  },
  {
   "cell_type": "code",
   "execution_count": null,
   "metadata": {},
   "outputs": [],
   "source": [
    "print(\"Uploaded Sequences DataFrame:\\n\")\n",
    "print(\"Contains the DataFrame with uploaded sequences.\")\n",
    "uploaded_sequences"
   ]
  },
  {
   "cell_type": "code",
   "execution_count": null,
   "metadata": {},
   "outputs": [],
   "source": [
    "print(\"Not Uploaded Sequences DataFrame:\\n\")\n",
    "print(\"Contains the DataFrame with sequences that were not uploaded.\")\n",
    "not_uploaded_sequences"
   ]
  },
  {
   "cell_type": "markdown",
   "metadata": {},
   "source": [
    "---"
   ]
  },
  {
   "cell_type": "code",
   "execution_count": null,
   "metadata": {},
   "outputs": [],
   "source": [
    "seq_table = extract_table(database, user, password, host, port, 'seq')\n",
    "seq_table"
   ]
  }
 ],
 "metadata": {
  "kernelspec": {
   "display_name": "Python 3 (ipykernel)",
   "language": "python",
   "name": "python3"
  },
  "language_info": {
   "codemirror_mode": {
    "name": "ipython",
    "version": 3
   },
   "file_extension": ".py",
   "mimetype": "text/x-python",
   "name": "python",
   "nbconvert_exporter": "python",
   "pygments_lexer": "ipython3",
   "version": "3.9.6"
  }
 },
 "nbformat": 4,
 "nbformat_minor": 4
}
